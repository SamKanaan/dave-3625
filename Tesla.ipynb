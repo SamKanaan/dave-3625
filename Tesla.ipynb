{
 "cells": [
  {
   "cell_type": "code",
   "execution_count": null,
   "id": "e4c0284f",
   "metadata": {},
   "outputs": [],
   "source": [
    "import pandas as panda\n",
    "import datetime as dt\n",
    "from sklearn import linear_model\n",
    "from sklearn.model_selection import train_test_split\n",
    "from sklearn.metrics import mean_squared_error, r2_score\n",
    "import matplotlib.pyplot as plt "
   ]
  },
  {
   "cell_type": "code",
   "execution_count": null,
   "id": "8d793d9f",
   "metadata": {},
   "outputs": [],
   "source": [
    "df = panda.read_csv('TSLA.csv') "
   ]
  },
  {
   "cell_type": "code",
   "execution_count": null,
   "id": "6f56b990",
   "metadata": {},
   "outputs": [],
   "source": [
    "#Convert from Date column string to float\n",
    "df['Date'] = panda.to_datetime(df['Date'])\n",
    "df['Date'] = df['Date'].map(dt.datetime.toordinal) "
   ]
  },
  {
   "cell_type": "code",
   "execution_count": null,
   "id": "bdc73b29",
   "metadata": {},
   "outputs": [],
   "source": [
    "#Dropping all unnecessary columns\n",
    "df_date_close = df.drop([\"Open\",\"High\",\"Low\", \"Adj Close\", \"Volume\"], axis=\"columns\")"
   ]
  }
 ],
 "metadata": {
  "kernelspec": {
   "display_name": "Python 3",
   "language": "python",
   "name": "python3"
  },
  "language_info": {
   "codemirror_mode": {
    "name": "ipython",
    "version": 3
   },
   "file_extension": ".py",
   "mimetype": "text/x-python",
   "name": "python",
   "nbconvert_exporter": "python",
   "pygments_lexer": "ipython3",
   "version": "3.11.6"
  }
 },
 "nbformat": 4,
 "nbformat_minor": 5
}
